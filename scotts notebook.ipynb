{
 "cells": [
  {
   "cell_type": "code",
   "execution_count": null,
   "metadata": {},
   "outputs": [],
   "source": [
    "# Import libraries\n",
    "import pandas as pd\n",
    "import numpy as np\n",
    "import matplotlib.pyplot as plt\n",
    "import os\n",
    "import plotly\n",
    "import scipy.stats as stats\n",
    "%matplotlib inline"
   ]
  },
  {
   "cell_type": "code",
   "execution_count": null,
   "metadata": {},
   "outputs": [],
   "source": [
    "# Revenue Data\n",
    "path = os.getcwd()\n",
    "dataFilePath = os.path.join(path,\"data_files\",\"revenue.xlsx\")\n",
    "revenue = pd.read_excel(dataFilePath)"
   ]
  },
  {
   "cell_type": "code",
   "execution_count": null,
   "metadata": {},
   "outputs": [],
   "source": [
    "# Salary Data\n",
    "path = os.getcwd()\n",
    "dataFilePath = os.path.join(path,\"data_files\",\"teacher_salaries_1.xlsx\")\n",
    "teacher_salaries = pd.read_excel(dataFilePath).round(0)\n",
    "teacher_salaries.drop([0])\n",
    "teacher_salaries"
   ]
  },
  {
   "cell_type": "code",
   "execution_count": null,
   "metadata": {},
   "outputs": [],
   "source": [
    "# Region Data\n",
    "path = os.getcwd()\n",
    "dataFilePath = os.path.join(path,\"data_files\",\"Region Defintions.xlsx\")\n",
    "regionData = pd.read_excel(dataFilePath)"
   ]
  },
  {
   "cell_type": "code",
   "execution_count": null,
   "metadata": {},
   "outputs": [],
   "source": [
    "# Graduation Rate Data\n",
    "path = os.getcwd()\n",
    "dataFilePath = os.path.join(path,\"data_files\",\"grad_rate.xlsx\")\n",
    "grad_rate = pd.read_excel(dataFilePath)"
   ]
  },
  {
   "cell_type": "code",
   "execution_count": null,
   "metadata": {},
   "outputs": [],
   "source": [
    "# Pupil Spending Data\n",
    "path = os.getcwd()\n",
    "dataFilePath = os.path.join(path,\"data_files\",\"per_pupil_spending.xlsx\")\n",
    "pupil_spending = pd.read_excel(dataFilePath)\n",
    "pupil_spending"
   ]
  },
  {
   "cell_type": "code",
   "execution_count": null,
   "metadata": {},
   "outputs": [],
   "source": [
    "# Ratio Data\n",
    "path = os.getcwd()\n",
    "dataFilePath = os.path.join(path,\"data_files\",\"teacher_student_ratio.xlsx\")\n",
    "ratio = pd.read_excel(dataFilePath)\n",
    "ratio"
   ]
  },
  {
   "cell_type": "code",
   "execution_count": null,
   "metadata": {},
   "outputs": [],
   "source": [
    "grad_rate_df = grad_rate.rename(columns={\"Unmaned: 0\":\"States\", \"Unnamed: 1\":\"2010\", \"Unnamed: 2\":\"2011\", \"Unnamed: 3\":\"2012\", \"Unnamed: 4\":\"2013\", \"Unnamed: 5\":\"2014\", \"Unnamed: 6\":\"2015\", \"Unnamed: 7\":\"2016\" })\n",
    "grad_rate_df.head()\n"
   ]
  },
  {
   "cell_type": "code",
   "execution_count": null,
   "metadata": {},
   "outputs": [],
   "source": [
    "grad_rate_df_1 = grad_rate_df.drop([0,1])\n",
    "grad_rate_renamed = grad_rate_df_1.rename(columns={\"Unnamed: 0\": \"States\"})\n",
    "grad_rate_renamed = grad_rate_renamed.set_index('States')\n",
    "grad_rate_renamed.head()"
   ]
  },
  {
   "cell_type": "code",
   "execution_count": null,
   "metadata": {},
   "outputs": [],
   "source": [
    "# Get full data for state\n",
    "yearValues = pd.DataFrame(grad_rate_renamed.loc['Oklahoma'].transform(lambda x: x.fillna(x.mean())))\n",
    "# Drop incomplete data\n",
    "grad_rate_renamed = grad_rate_renamed.drop(index='Oklahoma')\n",
    "# Flatten the year data\n",
    "stateData = yearValues.T\n",
    "# Add new data and sort by state name\n",
    "grad_rate_renamed = grad_rate_renamed.append(stateData).sort_index()\n",
    "# Print results\n",
    "grad_rate_renamed"
   ]
  },
  {
   "cell_type": "code",
   "execution_count": null,
   "metadata": {},
   "outputs": [],
   "source": [
    "yearValues = grad_rate_renamed.loc['Idaho'].transform(lambda x: x.fillna(x.mean()))\n",
    "# Drop incomplete data\n",
    "grad_rate_renamed = grad_rate_renamed.drop(index='Idaho')\n",
    "# Flatten the year data\n",
    "stateData = yearValues.T\n",
    "# Add new data and sort by state name\n",
    "grad_rate_renamed = grad_rate_renamed.append(stateData).sort_index()\n",
    "# Print results\n",
    "grad_rate_renamed"
   ]
  },
  {
   "cell_type": "code",
   "execution_count": null,
   "metadata": {},
   "outputs": [],
   "source": [
    "yearValues = grad_rate_renamed.loc['Kentucky'].transform(lambda x: x.fillna(x.mean()))\n",
    "# Drop incomplete data\n",
    "grad_rate_renamed = grad_rate_renamed.drop(index='Kentucky')\n",
    "# Flatten the year data\n",
    "stateData = yearValues.T\n",
    "# Add new data and sort by state name\n",
    "grad_rate_renamed = grad_rate_renamed.append(stateData).sort_index()\n",
    "# Print results\n",
    "grad_rate_renamed"
   ]
  },
  {
   "cell_type": "code",
   "execution_count": null,
   "metadata": {},
   "outputs": [],
   "source": [
    "pupil_spending_renamed = pupil_spending.rename(columns={\"2007\":\"2007_PPS\", \"2008\":\"2008_PPS\", \"2009\":\"2009_PPS\",\n",
    "                                                       \"2010\":\"2010_PPS\", \"2011\":\"2011_PPS\", \"2012\":\"2012_PPS\", \"2013\":\"2013_PPS\",\n",
    "                                                       \"2014\":\"2014_PPS\", \"2015\":\"2015_PPS\", \"2016\":\"2016_PPS\", \n",
    "                                                       \"Unnamed: 2\":\"2007 pct_change\", \"Unnamed: 4\":\"2008 pct_change\",\n",
    "                                                       \"Unnamed: 6\":\"2009 pct_change\",\"Unnamed: 8\":\"2010 pct_change\",\n",
    "                                                       \"Unnamed: 10\":\"2011 pct_change\", \"Unnamed: 12\":\"2012 pct_change\",\n",
    "                                                       \"Unnamed: 14\":\"2013 pct_change\", \"Unnamed: 16\":\"2014 pct_change\",\n",
    "                                                       \"Unnamed: 18\":\"2015 pct_change\", \"Unnamed: 20\":\"2016 pct_change\"})\n",
    "\n",
    "pupil_spending_renamed.head()\n"
   ]
  },
  {
   "cell_type": "code",
   "execution_count": null,
   "metadata": {},
   "outputs": [],
   "source": [
    "pupil_spending_df = pupil_spending_renamed.drop([0,1])\n",
    "pupil_spending_df.head()"
   ]
  },
  {
   "cell_type": "code",
   "execution_count": null,
   "metadata": {},
   "outputs": [],
   "source": [
    "pupil_spending_df.isnull().sum()"
   ]
  },
  {
   "cell_type": "code",
   "execution_count": null,
   "metadata": {},
   "outputs": [],
   "source": [
    "ratio_df = ratio.drop(['Unnamed: 1', 2007, 'Unnamed: 3', 'Unnamed: 4', 2008, 'Unnamed: 6', 'Unnamed: 7', 2009, 'Unnamed: 9','Unnamed: 10', 2010, 'Unnamed: 12'],axis=1)\n",
    "ratio_df.head()\n"
   ]
  },
  {
   "cell_type": "code",
   "execution_count": null,
   "metadata": {},
   "outputs": [],
   "source": [
    "ratio_renamed_df = ratio_df.rename(columns={\"Unnamed: 0\":\"State\", \"Unnamed: 13\":\"2011_staff\", 2011:\"2011_enrollment\", \n",
    "                                     \"Unnamed: 15\":\"2011_ratio\", \"Unnamed: 16\":\"2012_staff\", 2012:\"2012_enrollment\", \n",
    "                                      \"Unnamed: 18\":\"2012_ratio\", \"Unnamed: 19\":\"2013_staff\", 2013:\"2013_enrollment\",\n",
    "                                     \"Unnamed: 21\":\"2013_ratio\", \"Unnamed: 22\":\"2014_staff\", 2014:\"2014_enrollment\",\n",
    "                                     \"Unnamed: 24\":\"2014_ratio\",  \"Unnamed: 25\":\"2015_staff\", 2015:\"2015_enrollment\",\n",
    "                                     \"Unnamed: 27\":\"2015_ratio\", \"Unnamed: 28\":\"2016_staff\", 2016:\"2016_enrollment\",\n",
    "                                     \"Unnamed: 30\":\"2016_ratio\"}) \n",
    "                                     \n",
    "ratio_renamed_df.head()                                 \n",
    "                                     "
   ]
  },
  {
   "cell_type": "code",
   "execution_count": null,
   "metadata": {},
   "outputs": [],
   "source": [
    "ratio_cleaned_df = ratio_renamed_df.drop([0])\n",
    "ratio_cleaned_df.head()"
   ]
  },
  {
   "cell_type": "code",
   "execution_count": null,
   "metadata": {},
   "outputs": [],
   "source": [
    "ratio_cleaned_df.isnull().sum()"
   ]
  },
  {
   "cell_type": "code",
   "execution_count": null,
   "metadata": {},
   "outputs": [],
   "source": [
    "grad_rate_renamed"
   ]
  },
  {
   "cell_type": "code",
   "execution_count": null,
   "metadata": {},
   "outputs": [],
   "source": [
    "# Make GA dataset for comparing to US\n",
    "gaGradRate = pd.DataFrame(grad_rate_renamed.loc['Georgia'])\n",
    "# Remove GA for comparison\n",
    "allOtherGradRates = grad_rate_renamed.drop(index='Georgia')\n",
    "anovaResult = stats.f_oneway(gaGradRate.T, allOtherGradRates)\n",
    "\n",
    "anovaResult = pd.DataFrame(anovaResult)\n",
    "\n",
    "anovaResult = anovaResult.rename(columns={0:\"2010\", 1:\"2011\", 2:\"2012\", 3:\"2013\", 4:\"2014\", 5:\"2015\", 6:\"2016\"})\n",
    "anovaResult.index = ['Statistic', 'P Value']\n",
    "anovaResult\n"
   ]
  },
  {
   "cell_type": "code",
   "execution_count": null,
   "metadata": {},
   "outputs": [],
   "source": [
    "# Gather regions from region data file\n",
    "regionData = regionData.sort_values('Region')\n",
    "statesData = regionData[['State','Region']].sort_values(['Region','State'])\n",
    "\n",
    "# build new dataframes with states in region\n",
    "gradRatesByStateRegion = statesData.join(grad_rate_renamed,on='State')\n",
    "# Northeast, South, West\n",
    "# Breakout data frames by region\n",
    "midWestGradRates = gradRatesByStateRegion[gradRatesByStateRegion['Region'] == 'Midwest']\n",
    "northEastGradRates = gradRatesByStateRegion[gradRatesByStateRegion['Region'] == 'Northeast']\n",
    "westGradRates = gradRatesByStateRegion[gradRatesByStateRegion['Region'] == 'West']\n",
    "southGradRates = gradRatesByStateRegion[gradRatesByStateRegion['Region'] == 'South']\n",
    "\n",
    "midWestGradRates\n",
    "\n"
   ]
  },
  {
   "cell_type": "code",
   "execution_count": null,
   "metadata": {},
   "outputs": [],
   "source": [
    "yearSet = ['2010','2011','2012','2013','2014','2015','2016']\n",
    "\n",
    "for year in yearSet:\n",
    "    # get the avg value for each region that year\n",
    "    ne = gradRatesByStateRegion[year][gradRatesByStateRegion['Region'] == 'Northeast']\n",
    "    s  = gradRatesByStateRegion[year][gradRatesByStateRegion['Region'] == 'South']\n",
    "    mw = gradRatesByStateRegion[year][gradRatesByStateRegion['Region'] == 'Midwest']\n",
    "    w  = gradRatesByStateRegion[year][gradRatesByStateRegion['Region'] == 'West']\n",
    "\n"
   ]
  },
  {
   "cell_type": "code",
   "execution_count": null,
   "metadata": {},
   "outputs": [],
   "source": [
    "# Produce boxplots for years 2010-2016\n",
    "yearSet = ['2010','2011','2012','2013','2014','2015','2016']\n",
    "\n",
    "for year in yearSet:\n",
    "    ne   = gradRatesByStateRegion[year][gradRatesByStateRegion['Region'] == 'Northeast']\n",
    "    s    = gradRatesByStateRegion[year][gradRatesByStateRegion['Region'] == 'South']\n",
    "    mw   = gradRatesByStateRegion[year][gradRatesByStateRegion['Region'] == 'Midwest']\n",
    "    w    = gradRatesByStateRegion[year][gradRatesByStateRegion['Region'] == 'West']\n",
    "    USne = gradRatesByStateRegion[year][gradRatesByStateRegion['Region'] != 'Northeast']\n",
    "    USs  = gradRatesByStateRegion[year][gradRatesByStateRegion['Region'] != 'South']\n",
    "    USmw = gradRatesByStateRegion[year][gradRatesByStateRegion['Region'] != 'Midwest']\n",
    "    USw  = gradRatesByStateRegion[year][gradRatesByStateRegion['Region'] != 'West']\n",
    "    \n",
    "    neTtestResults = stats.ttest_ind(ne,USne)\n",
    "    sTtestResults = stats.ttest_ind(s,USs)\n",
    "    mwTtestResults = stats.ttest_ind(mw,USmw)\n",
    "    wTtestResults = stats.ttest_ind(w,USw)\n",
    "\n",
    "    fig1, ax1 = plt.subplots()\n",
    "    ax1.set_title('Region Graduation Rates ' + year)\n",
    "    ax1.set_ylabel('Graduation %')\n",
    "    ax1.set_ylim(0, 100)\n",
    "    ax1.boxplot([\n",
    "        # Get values for each region for current year\n",
    "        ne,s,mw,w\n",
    "        ],labels=chartLabels,)\n",
    "    fileName = year + \"RegionData.png\"\n",
    "    # output image\n",
    "    dataFilePath = os.path.join(path,\"image_files\",fileName)\n",
    "    plt.savefig(dataFilePath)\n",
    "    # display plot\n",
    "    plt.show()\n",
    "    print(f\"NE: {neTtestResults}\")\n",
    "    print(f\"S: {sTtestResults}\")\n",
    "    print(f\"MW: {mwTtestResults}\")\n",
    "    print(f\"W: {wTtestResults}\")"
   ]
  },
  {
   "cell_type": "code",
   "execution_count": null,
   "metadata": {},
   "outputs": [],
   "source": []
  }
 ],
 "metadata": {
  "kernelspec": {
   "display_name": "Python 3",
   "language": "python",
   "name": "python3"
  },
  "language_info": {
   "codemirror_mode": {
    "name": "ipython",
    "version": 3
   },
   "file_extension": ".py",
   "mimetype": "text/x-python",
   "name": "python",
   "nbconvert_exporter": "python",
   "pygments_lexer": "ipython3",
   "version": "3.7.4-final"
  }
 },
 "nbformat": 4,
 "nbformat_minor": 2
}